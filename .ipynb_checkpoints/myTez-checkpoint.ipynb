{
 "cells": [
  {
   "cell_type": "code",
   "execution_count": 34,
   "metadata": {},
   "outputs": [],
   "source": [
    "import networkx as nx\n",
    "from networkx import algorithms\n",
    "import itertools\n",
    "import community\n",
    "from networkx import edge_betweenness_centrality\n",
    "from random import random\n",
    "import matplotlib.pyplot as plt\n",
    "import seaborn as sns\n",
    "import cdlib\n",
    "from cdlib import algorithms\n",
    "from cdlib import evaluation\n",
    "import numpy as np\n",
    "from cdlib import ensemble"
   ]
  },
  {
   "cell_type": "code",
   "execution_count": 4,
   "metadata": {},
   "outputs": [
    {
     "name": "stdout",
     "output_type": "stream",
     "text": [
      "reading retweet edges from file...\n"
     ]
    }
   ],
   "source": [
    "print('reading retweet edges from file...')\n",
    "\n",
    "G = nx.DiGraph() \n",
    "filename = 'data\\\\retweet.txt'\n",
    "fhand = open(filename)\n",
    "count = 0\n",
    "for line in fhand:\n",
    "    lst = line.strip().split(',')\n",
    "    if len(lst[0])==0 or len(lst[1])==0:\n",
    "        continue\n",
    "    \n",
    "    if count > 350000:\n",
    "        break\n",
    "    count = count+1\n",
    "    \n",
    "    G.add_weighted_edges_from([(lst[0],lst[1],int(lst[2]))])\n"
   ]
  },
  {
   "cell_type": "code",
   "execution_count": 5,
   "metadata": {},
   "outputs": [
    {
     "data": {
      "text/plain": [
       "98751"
      ]
     },
     "execution_count": 5,
     "metadata": {},
     "output_type": "execute_result"
    }
   ],
   "source": [
    "len(G.nodes)"
   ]
  },
  {
   "cell_type": "markdown",
   "metadata": {},
   "source": [
    "## Utils"
   ]
  },
  {
   "cell_type": "code",
   "execution_count": 47,
   "metadata": {},
   "outputs": [],
   "source": [
    "def community_size(com):\n",
    "    #print(\"Community_size = \" +str(len(com)))\n",
    "    #print(\"Max element_count = \" + str(len(com[0])))\n",
    "    for i in range(0,30):\n",
    "        print(len(com[i]))\n",
    "    print(\"XXXXXXXXXXXXXXXX\")\n",
    "    print(com[29])\n",
    "    return len(com[0]), len(com)"
   ]
  },
  {
   "cell_type": "code",
   "execution_count": 31,
   "metadata": {},
   "outputs": [],
   "source": [
    "def evaluate(g, clusters):\n",
    "    print(\"Average internal degree = \" + str( clusters.average_internal_degree()))\n",
    "    print(\"XXXXXXXXXXXXXXXXXXXXXXXXXXXXXXXXXXXXXXXXXXXXXXXXXXXXXX\")\n",
    "    print(\"Coverage = \" +str( clusters.node_coverage))\n",
    "    print(\"XXXXXXXXXXXXXXXXXXXXXXXXXXXXXXXXXXXXXXXXXXXXXXXXXXXXXX\")\n",
    "    print(\"Modularity Density\" + str(evaluation.modularity_density(g,clusters)))\n",
    "    print(\"XXXXXXXXXXXXXXXXXXXXXXXXXXXXXXXXXXXXXXXXXXXXXXXXXXXXXX\")\n",
    "    print(\"Conductance\" +str( evaluation.conductance(g,clusters)))\n",
    "    print(\"XXXXXXXXXXXXXXXXXXXXXXXXXXXXXXXXXXXXXXXXXXXXXXXXXXXXXX\")\n",
    "    print(\"Erdos Renyi Modularity\" + str( evaluation.erdos_renyi_modularity(g,clusters)))"
   ]
  },
  {
   "cell_type": "code",
   "execution_count": null,
   "metadata": {},
   "outputs": [],
   "source": [
    "algs = np.array([])"
   ]
  },
  {
   "cell_type": "markdown",
   "metadata": {},
   "source": [
    "# ALGORİTMALAR"
   ]
  },
  {
   "cell_type": "markdown",
   "metadata": {},
   "source": [
    "## LPA"
   ]
  },
  {
   "cell_type": "code",
   "execution_count": 11,
   "metadata": {},
   "outputs": [],
   "source": [
    "lp_coms = algorithms.label_propagation(G.to_undirected())"
   ]
  },
  {
   "cell_type": "code",
   "execution_count": 48,
   "metadata": {},
   "outputs": [
    {
     "name": "stdout",
     "output_type": "stream",
     "text": [
      "28919\n",
      "17923\n",
      "2321\n",
      "1961\n",
      "1263\n",
      "988\n",
      "836\n",
      "404\n",
      "312\n",
      "304\n",
      "285\n",
      "266\n",
      "259\n",
      "239\n",
      "212\n",
      "191\n",
      "177\n",
      "174\n",
      "172\n",
      "171\n",
      "161\n",
      "147\n",
      "146\n",
      "143\n",
      "143\n",
      "139\n",
      "137\n",
      "137\n",
      "136\n",
      "134\n",
      "XXXXXXXXXXXXXXXX\n",
      "['BeatrizV64', 'AGroschopf', 'Atila31607022', 'Andylaflaca12', 'AlcidesnNunez', 'ALEJANDROAABRAM', 'BellotaNegra', '3online', 'ActOldiLion', 'AntonioOstoich1', 'Barboza2020', 'GuazzoraE', '9griega', 'AdrianFer1963', 'AdrianaKalvin', '52_clara', '338Gladys', 'AveFenix032', 'Amassa_la_Massa', 'ArielCosoli', 'AlejoPuebla_14', '2dedos_d_frente', 'superggelido', 'ASAEL_MOLINA', 'AzulTrefilio', 'ANICELCAR', 'BCrisolbar', 'Adokin_opositor', 'AlfredBianco', '876_ariel', '75_larusa', '32jaydee', 'BafundIsabel', 'BalRolon', '77Pahio', '2009caj', 'BifariR', 'Alberto69194712', 'AnaKaOtero', '67_vivita', 'Ariellu47039064', '6183Marcos', '1ea90ca832724da', '3179Morocha', 'BetCarp', 'AlbornozFerOk', 'AnitaLopez734', 'Abeldealmeida8', 'AbejaBlanca1303', 'Alberto_Haedo', 'BienAmayita', 'EeMuro', 'BettoGalarza', 'Alis_Mal', 'AFNYQUE', '881Lauraguevara', 'Adriana12743650', 'AsapAdmon', 'Andremarianam', 'AgusSartorio', 'Anarcotizado', 'AgustoRoca', 'Anifranco70', '12_ratto', 'Beto616Alberto', 'Bernardo_RC1889', 'ApoloF', '1cuentoChinoS', '59Rita7', '517Sambucetti', 'Abraham47442521', 'ArethaMaria2', '4FRevolucion1ro', '2008_walter', 'AME185', 'Bethlizzi', 'Adrianrevolucio', 'AlbaMariluz', 'Orlando45107312', 'Alejandralegist', 'AleRMazzei', 'AGUANANJA', 'AleCeGermano', 'AlejaCouso', 'Adriana71854474', 'AlicitaLoza', 'AnneLee70', 'Asteroide_Rock', 'Angelkoba', 'BRUNOHLEAL', 'AcevedoBruno9', 'Antimacrista4', 'Argothauz', 'Bibi11521666', 'ALEZABA', 'AyrtonSchira', 'AndreDeLobos', '49Soy', 'AlbertiAG', 'Antcane', 'AndreGuida3', '6362980cff2a48c', 'Aleduca', 'BarrioCacho', 'AlejandroFrezz2', 'Anaislada', '6Julieta78', 'Antonbianchi13', 'AbalCintia', 'Angelovenami', 'Alanvaz49268233', '5nacionalpopula', 'AgustinDoldan', 'AmeliaSuarezAS', 'AdriNeme', '602ceed50c99420', 'AlmaFuerte40', '8Viejo', '27perroloco', 'AndreaQuili', 'MarceloBrusco', 'AngelCa29056057', 'AndyLovegood1', 'AlDoppelganger', 'Analiasabrinak', 'Alma_GitanaLuna', 'Aldana_A_', 'Belen8417', 'Ayelenlrm', 'Analiz56424125', '82GISSELA', 'ApuleyoPaz', 'Charoli2015', '2Silchu']\n"
     ]
    },
    {
     "data": {
      "text/plain": [
       "11242"
      ]
     },
     "execution_count": 48,
     "metadata": {},
     "output_type": "execute_result"
    }
   ],
   "source": [
    "lp_com_max_size,lp_com_size = community_size(lp_coms.communities)\n",
    "lp_com_size"
   ]
  },
  {
   "cell_type": "code",
   "execution_count": 39,
   "metadata": {},
   "outputs": [
    {
     "name": "stdout",
     "output_type": "stream",
     "text": [
      "Average internal degree = FitnessResult(min=1.0, max=15.425247738043947, score=1.2491047422147596, std=0.5073451081890505)\n",
      "XXXXXXXXXXXXXXXXXXXXXXXXXXXXXXXXXXXXXXXXXXXXXXXXXXXXXX\n",
      "Coverage = 1.0\n",
      "XXXXXXXXXXXXXXXXXXXXXXXXXXXXXXXXXXXXXXXXXXXXXXXXXXXXXX\n",
      "Modularity DensityFitnessResult(min=None, max=None, score=4190.1575432669115, std=None)\n",
      "XXXXXXXXXXXXXXXXXXXXXXXXXXXXXXXXXXXXXXXXXXXXXXXXXXXXXX\n",
      "ConductanceFitnessResult(min=0.0, max=0.8888888888888888, score=0.16188288470286394, std=0.19949514703762802)\n",
      "XXXXXXXXXXXXXXXXXXXXXXXXXXXXXXXXXXXXXXXXXXXXXXXXXXXXXX\n",
      "Erdos Renyi ModularityFitnessResult(min=None, max=None, score=0.7828767994764904, std=None)\n"
     ]
    }
   ],
   "source": [
    "evaluate(G.to_undirected(),lp_coms)"
   ]
  },
  {
   "cell_type": "code",
   "execution_count": null,
   "metadata": {},
   "outputs": [],
   "source": [
    "algs = np.append(algs, lp_coms)"
   ]
  },
  {
   "cell_type": "code",
   "execution_count": null,
   "metadata": {},
   "outputs": [],
   "source": [
    "from cdlib import viz\n",
    "\n",
    "pos = nx.spring_layout(G.to_undirected())\n",
    "viz.plot_network_clusters(G.to_undirected(), lp_coms, pos, figsize=(5, 5))"
   ]
  },
  {
   "cell_type": "code",
   "execution_count": null,
   "metadata": {},
   "outputs": [],
   "source": [
    "evaluation.modularity_density(G.to_undirected(),lp_coms)"
   ]
  },
  {
   "cell_type": "markdown",
   "metadata": {},
   "source": [
    "## Leiden (Directed)"
   ]
  },
  {
   "cell_type": "code",
   "execution_count": 14,
   "metadata": {},
   "outputs": [],
   "source": [
    "lei_com = algorithms.leiden(G)"
   ]
  },
  {
   "cell_type": "code",
   "execution_count": 15,
   "metadata": {},
   "outputs": [
    {
     "name": "stdout",
     "output_type": "stream",
     "text": [
      "Community_size = 6601\n",
      "Max element_count = 21423\n"
     ]
    }
   ],
   "source": [
    "lei_com_max_size,lei_com_size = community_size(lei_com.communities)\n"
   ]
  },
  {
   "cell_type": "code",
   "execution_count": 38,
   "metadata": {},
   "outputs": [
    {
     "name": "stdout",
     "output_type": "stream",
     "text": [
      "Average internal degree = FitnessResult(min=0, max=0, score=0.0, std=0.0)\n",
      "XXXXXXXXXXXXXXXXXXXXXXXXXXXXXXXXXXXXXXXXXXXXXXXXXXXXXX\n",
      "Coverage = 1.0\n",
      "XXXXXXXXXXXXXXXXXXXXXXXXXXXXXXXXXXXXXXXXXXXXXXXXXXXXXX\n",
      "Modularity DensityFitnessResult(min=None, max=None, score=3530.6777721855897, std=None)\n",
      "XXXXXXXXXXXXXXXXXXXXXXXXXXXXXXXXXXXXXXXXXXXXXXXXXXXXXX\n",
      "ConductanceFitnessResult(min=0.0, max=0.42857142857142855, score=0.006060770797674684, std=0.03369569813643792)\n",
      "XXXXXXXXXXXXXXXXXXXXXXXXXXXXXXXXXXXXXXXXXXXXXXXXXXXXXX\n",
      "Erdos Renyi ModularityFitnessResult(min=None, max=None, score=0.8127015438369111, std=None)\n"
     ]
    }
   ],
   "source": [
    "evaluate(G,lei_com)"
   ]
  },
  {
   "cell_type": "code",
   "execution_count": null,
   "metadata": {},
   "outputs": [],
   "source": [
    "algs = np.append(algs, lei_com)"
   ]
  },
  {
   "cell_type": "markdown",
   "metadata": {},
   "source": [
    "## Louvain"
   ]
  },
  {
   "cell_type": "code",
   "execution_count": 17,
   "metadata": {},
   "outputs": [],
   "source": [
    "louvain_coms = algorithms.louvain(G.to_undirected(), weight='weight', resolution=1., randomize=False)"
   ]
  },
  {
   "cell_type": "code",
   "execution_count": 18,
   "metadata": {},
   "outputs": [
    {
     "name": "stdout",
     "output_type": "stream",
     "text": [
      "Community_size = 6637\n",
      "Max element_count = 22711\n"
     ]
    }
   ],
   "source": [
    "lei_com_max_size,lei_com_size = community_size(louvain_coms.communities)"
   ]
  },
  {
   "cell_type": "code",
   "execution_count": 36,
   "metadata": {},
   "outputs": [
    {
     "name": "stdout",
     "output_type": "stream",
     "text": [
      "Average internal degree = FitnessResult(min=1.0, max=19.39212449893893, score=1.2111394395141142, std=0.5314568678024582)\n",
      "XXXXXXXXXXXXXXXXXXXXXXXXXXXXXXXXXXXXXXXXXXXXXXXXXXXXXX\n",
      "Coverage = 1.0\n",
      "XXXXXXXXXXXXXXXXXXXXXXXXXXXXXXXXXXXXXXXXXXXXXXXXXXXXXX\n",
      "Modularity DensityFitnessResult(min=None, max=None, score=3498.358933742127, std=None)\n",
      "XXXXXXXXXXXXXXXXXXXXXXXXXXXXXXXXXXXXXXXXXXXXXXXXXXXXXX\n",
      "ConductanceFitnessResult(min=0.0, max=0.8888888888888888, score=0.012316098608042607, std=0.06054837460636058)\n",
      "XXXXXXXXXXXXXXXXXXXXXXXXXXXXXXXXXXXXXXXXXXXXXXXXXXXXXX\n",
      "Erdos Renyi ModularityFitnessResult(min=None, max=None, score=0.7886742500669922, std=None)\n"
     ]
    }
   ],
   "source": [
    "evaluate(G.to_undirected(),louvain_coms)"
   ]
  },
  {
   "cell_type": "code",
   "execution_count": null,
   "metadata": {},
   "outputs": [],
   "source": [
    "algs = np.append(algs, louvain_coms)"
   ]
  },
  {
   "cell_type": "markdown",
   "metadata": {},
   "source": [
    "## Walktrap (Directed)"
   ]
  },
  {
   "cell_type": "code",
   "execution_count": 8,
   "metadata": {},
   "outputs": [],
   "source": [
    "walktrap_coms = algorithms.walktrap(G)"
   ]
  },
  {
   "cell_type": "code",
   "execution_count": 9,
   "metadata": {},
   "outputs": [
    {
     "name": "stdout",
     "output_type": "stream",
     "text": [
      "Community_size = 11433\n",
      "Max element_count = 21506\n"
     ]
    }
   ],
   "source": [
    "walktrap_coms_max_size,walktrap_com_size = community_size(walktrap_coms.communities)"
   ]
  },
  {
   "cell_type": "code",
   "execution_count": 32,
   "metadata": {},
   "outputs": [
    {
     "name": "stdout",
     "output_type": "stream",
     "text": [
      "Average internal degree = FitnessResult(min=0, max=0, score=0.0, std=0.0)\n",
      "XXXXXXXXXXXXXXXXXXXXXXXXXXXXXXXXXXXXXXXXXXXXXXXXXXXXXX\n",
      "Coverage = 1.0\n",
      "XXXXXXXXXXXXXXXXXXXXXXXXXXXXXXXXXXXXXXXXXXXXXXXXXXXXXX\n",
      "Modularity DensityFitnessResult(min=None, max=None, score=4395.457187113629, std=None)\n",
      "XXXXXXXXXXXXXXXXXXXXXXXXXXXXXXXXXXXXXXXXXXXXXXXXXXXXXX\n",
      "ConductanceFitnessResult(min=0.0, max=1.0, score=0.09493685537671782, std=0.15238619615610102)\n",
      "XXXXXXXXXXXXXXXXXXXXXXXXXXXXXXXXXXXXXXXXXXXXXXXXXXXXXX\n",
      "Erdos Renyi ModularityFitnessResult(min=None, max=None, score=0.8111338972320368, std=None)\n"
     ]
    }
   ],
   "source": [
    "evaluate(G,walktrap_coms)"
   ]
  },
  {
   "cell_type": "markdown",
   "metadata": {},
   "source": [
    "## Eigenvector (Directed)"
   ]
  },
  {
   "cell_type": "code",
   "execution_count": 20,
   "metadata": {},
   "outputs": [],
   "source": [
    "eigenvector_coms = algorithms.eigenvector(G)"
   ]
  },
  {
   "cell_type": "code",
   "execution_count": 21,
   "metadata": {},
   "outputs": [
    {
     "name": "stdout",
     "output_type": "stream",
     "text": [
      "Community_size = 6263\n",
      "Max element_count = 82434\n"
     ]
    }
   ],
   "source": [
    "eigenvector_coms_max_size,eigenvector_com_size = community_size(eigenvector_coms.communities)"
   ]
  },
  {
   "cell_type": "code",
   "execution_count": 40,
   "metadata": {},
   "outputs": [
    {
     "name": "stdout",
     "output_type": "stream",
     "text": [
      "Average internal degree = FitnessResult(min=0, max=0, score=0.0, std=0.0)\n",
      "XXXXXXXXXXXXXXXXXXXXXXXXXXXXXXXXXXXXXXXXXXXXXXXXXXXXXX\n",
      "Coverage = 1.0\n",
      "XXXXXXXXXXXXXXXXXXXXXXXXXXXXXXXXXXXXXXXXXXXXXXXXXXXXXX\n",
      "Modularity DensityFitnessResult(min=None, max=None, score=3448.5386197864063, std=None)\n",
      "XXXXXXXXXXXXXXXXXXXXXXXXXXXXXXXXXXXXXXXXXXXXXXXXXXXXXX\n",
      "ConductanceFitnessResult(min=0.0, max=0.0, score=0.0, std=0.0)\n",
      "XXXXXXXXXXXXXXXXXXXXXXXXXXXXXXXXXXXXXXXXXXXXXXXXXXXXXX\n",
      "Erdos Renyi ModularityFitnessResult(min=None, max=None, score=0.30315631687875577, std=None)\n"
     ]
    }
   ],
   "source": [
    "evaluate(G,eigenvector_coms)"
   ]
  },
  {
   "cell_type": "code",
   "execution_count": null,
   "metadata": {},
   "outputs": [],
   "source": [
    "algs = np.append(algs, eigenvector_coms)"
   ]
  },
  {
   "cell_type": "markdown",
   "metadata": {},
   "source": [
    "## Significance communities ( Directed )\n",
    "\n",
    "https://cdlib.readthedocs.io/en/latest/reference/cd_algorithms/algs/cdlib.algorithms.significance_communities.html#cdlib.algorithms.significance_communities"
   ]
  },
  {
   "cell_type": "code",
   "execution_count": 23,
   "metadata": {},
   "outputs": [],
   "source": [
    "significance_coms = algorithms.significance_communities(G) #not suitable weighted"
   ]
  },
  {
   "cell_type": "code",
   "execution_count": 24,
   "metadata": {},
   "outputs": [
    {
     "name": "stdout",
     "output_type": "stream",
     "text": [
      "Community_size = 32020\n",
      "Max element_count = 2822\n"
     ]
    }
   ],
   "source": [
    "significance_coms_max_size,significance_com_size = community_size(significance_coms.communities)"
   ]
  },
  {
   "cell_type": "code",
   "execution_count": 41,
   "metadata": {},
   "outputs": [
    {
     "name": "stdout",
     "output_type": "stream",
     "text": [
      "Average internal degree = FitnessResult(min=0, max=0, score=0.0, std=0.0)\n",
      "XXXXXXXXXXXXXXXXXXXXXXXXXXXXXXXXXXXXXXXXXXXXXXXXXXXXXX\n",
      "Coverage = 1.0\n",
      "XXXXXXXXXXXXXXXXXXXXXXXXXXXXXXXXXXXXXXXXXXXXXXXXXXXXXX\n",
      "Modularity DensityFitnessResult(min=None, max=None, score=-28657.71250347988, std=None)\n",
      "XXXXXXXXXXXXXXXXXXXXXXXXXXXXXXXXXXXXXXXXXXXXXXXXXXXXXX\n",
      "ConductanceFitnessResult(min=0.0, max=1.0, score=0.41923148082268646, std=0.45991737830091206)\n",
      "XXXXXXXXXXXXXXXXXXXXXXXXXXXXXXXXXXXXXXXXXXXXXXXXXXXXXX\n",
      "Erdos Renyi ModularityFitnessResult(min=None, max=None, score=0.6422703039007925, std=None)\n"
     ]
    }
   ],
   "source": [
    "evaluate(G,significance_coms)"
   ]
  },
  {
   "cell_type": "code",
   "execution_count": null,
   "metadata": {},
   "outputs": [],
   "source": [
    "algs = np.append(algs, significance_coms)"
   ]
  },
  {
   "cell_type": "markdown",
   "metadata": {},
   "source": [
    "## Surprise Communities (Directed)"
   ]
  },
  {
   "cell_type": "code",
   "execution_count": 26,
   "metadata": {},
   "outputs": [],
   "source": [
    "surprise_coms = algorithms.surprise_communities(G)"
   ]
  },
  {
   "cell_type": "code",
   "execution_count": 27,
   "metadata": {},
   "outputs": [
    {
     "name": "stdout",
     "output_type": "stream",
     "text": [
      "Community_size = 98750\n",
      "Max element_count = 2\n"
     ]
    }
   ],
   "source": [
    "surprise_coms_max_size,surprise_coms_size = community_size(surprise_coms.communities)"
   ]
  },
  {
   "cell_type": "code",
   "execution_count": 42,
   "metadata": {},
   "outputs": [
    {
     "name": "stdout",
     "output_type": "stream",
     "text": [
      "Average internal degree = FitnessResult(min=0, max=0, score=0.0, std=0.0)\n",
      "XXXXXXXXXXXXXXXXXXXXXXXXXXXXXXXXXXXXXXXXXXXXXXXXXXXXXX\n",
      "Coverage = 1.0\n",
      "XXXXXXXXXXXXXXXXXXXXXXXXXXXXXXXXXXXXXXXXXXXXXXXXXXXXXX\n",
      "Modularity DensityFitnessResult(min=None, max=None, score=-693692.0, std=None)\n",
      "XXXXXXXXXXXXXXXXXXXXXXXXXXXXXXXXXXXXXXXXXXXXXXXXXXXXXX\n",
      "ConductanceFitnessResult(min=0, max=1.0, score=0.5954125652676049, std=0.4892199587736891)\n",
      "XXXXXXXXXXXXXXXXXXXXXXXXXXXXXXXXXXXXXXXXXXXXXXXXXXXXXX\n",
      "Erdos Renyi ModularityFitnessResult(min=None, max=None, score=0.004502844072494518, std=None)\n"
     ]
    }
   ],
   "source": [
    "evaluate(G,surprise_coms)"
   ]
  },
  {
   "cell_type": "code",
   "execution_count": null,
   "metadata": {},
   "outputs": [],
   "source": [
    "algs = np.append(algs, surprise_coms)"
   ]
  }
 ],
 "metadata": {
  "kernelspec": {
   "display_name": "Python 3",
   "language": "python",
   "name": "python3"
  },
  "language_info": {
   "codemirror_mode": {
    "name": "ipython",
    "version": 3
   },
   "file_extension": ".py",
   "mimetype": "text/x-python",
   "name": "python",
   "nbconvert_exporter": "python",
   "pygments_lexer": "ipython3",
   "version": "3.7.6"
  }
 },
 "nbformat": 4,
 "nbformat_minor": 4
}
