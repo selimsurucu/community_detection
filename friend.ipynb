{
 "cells": [
  {
   "cell_type": "code",
   "execution_count": 1,
   "metadata": {},
   "outputs": [],
   "source": [
    "from ast import literal_eval\n",
    "from pyspark import SparkConf, SparkContext\n",
    "import sys, json\n",
    "from pyspark import SQLContext\n",
    "from graphframes import *"
   ]
  },
  {
   "cell_type": "code",
   "execution_count": 2,
   "metadata": {},
   "outputs": [
    {
     "name": "stdout",
     "output_type": "stream",
     "text": [
      "+---+-----+\n",
      "| id|count|\n",
      "+---+-----+\n",
      "|  f|    0|\n",
      "|  e|    0|\n",
      "|  d|    0|\n",
      "|  c|    0|\n",
      "|  b|    0|\n",
      "|  a|    0|\n",
      "+---+-----+\n",
      "\n"
     ]
    }
   ],
   "source": [
    "from graphframes.examples import Graphs\n",
    "g = Graphs(sqlContext).friends()  # Get example graph\n",
    "\n",
    "results = g.triangleCount()\n",
    "results.select(\"id\", \"count\").show()"
   ]
  },
  {
   "cell_type": "code",
   "execution_count": 3,
   "metadata": {},
   "outputs": [
    {
     "name": "stdout",
     "output_type": "stream",
     "text": [
      "Pixiedust database opened successfully\n"
     ]
    },
    {
     "data": {
      "text/html": [
       "\n",
       "        <div style=\"margin:10px\">\n",
       "            <a href=\"https://github.com/ibm-watson-data-lab/pixiedust\" target=\"_new\">\n",
       "                <img src=\"https://github.com/ibm-watson-data-lab/pixiedust/raw/master/docs/_static/pd_icon32.png\" style=\"float:left;margin-right:10px\"/>\n",
       "            </a>\n",
       "            <span>Pixiedust version 1.1.18</span>\n",
       "        </div>\n",
       "        "
      ],
      "text/plain": [
       "<IPython.core.display.HTML object>"
      ]
     },
     "metadata": {},
     "output_type": "display_data"
    }
   ],
   "source": [
    "#import the display module\n",
    "from pixiedust.display import *"
   ]
  },
  {
   "cell_type": "code",
   "execution_count": 6,
   "metadata": {
    "pixiedust": {
     "displayParams": {
      "handlerId": "graphTree"
     }
    }
   },
   "outputs": [
    {
     "data": {
      "text/html": [
       "<div class=\"pixiedust\" pixiedust=\"{&quot;prefix&quot;: &quot;e8da7735&quot;, &quot;command&quot;: &quot;display(g,cell_id=&apos;3258d47e3f0e43f6859057a55336dc17&apos;,nostore_pixiedust=&apos;true&apos;,handlerId=&apos;graphTree&apos;,nostore_cw=&apos;1098&apos;,nostore_vh=&apos;646&apos;,org_params=&apos;nostore_pixiedust&apos;,nostore_bokeh=&apos;false&apos;)&quot;, &quot;entity&quot;: &quot;g&quot;, &quot;options&quot;: {&quot;cell_id&quot;: &quot;3258d47e3f0e43f6859057a55336dc17&quot;, &quot;nostore_pixiedust&quot;: &quot;true&quot;, &quot;handlerId&quot;: &quot;graphTree&quot;, &quot;nostore_cw&quot;: &quot;1098&quot;, &quot;nostore_vh&quot;: &quot;646&quot;, &quot;org_params&quot;: &quot;nostore_pixiedust&quot;, &quot;nostore_bokeh&quot;: &quot;false&quot;}, &quot;sniffers&quot;: [&quot;{&apos;nostore_bokeh&apos;:!!window.Bokeh}&quot;], &quot;avoidMetadata&quot;: false, &quot;include_keys&quot;: [&quot;filter&quot;]}\">\n",
       "  \n",
       "  <button class=\"btn btn-default btn-sm expandButton\" data-toggle=\"collapse\"\n",
       "          data-target=\"#pixiedust-output-wrapper-e8da7735\" title=\"Expand/Collapse Pixiedust output\">\n",
       "    <i class=\"fa\"></i>\n",
       "  </button>\n",
       "  \n",
       "  \n",
       "  <div id=\"pixiedust-output-wrapper-e8da7735\" class=\"pixiedust-output-wrapper collapse in\">\n",
       "    \n",
       "      <div class=\"pixiedust-toolbar btn-group\" role=\"group\" style=\"margin-bottom:15px\">  \n",
       "      \n",
       "        \n",
       "      \n",
       "        \n",
       "      \n",
       "        \n",
       "      \n",
       "        \n",
       "          <div class=\"btn-group btn-small display-type-button\">\n",
       "            \n",
       "            <a class=\"btn btn-small dropdown-toggle btn-default\" data-toggle=\"dropdown\" title=\"Graph\">\n",
       "              \n",
       "              <i class=\"fa fa-share-alt\"></i>\n",
       "              \n",
       "              <i class=\"fa fa-chevron-down\"></i>\n",
       "            </a>\n",
       "            <div class=\"dropdown-menu\" role=\"menu\" style=\"white-space:nowrap\">\n",
       "              <ul>\n",
       "              \n",
       "                <li id=\"menue8da7735-graphTree\">\n",
       "                  \n",
       "                  <i class=\"fa fa-bullseye\"></i>\n",
       "                  \n",
       "                  <span>Radial Tree</span>\n",
       "                  \n",
       "            <script>\n",
       "                $('#menue8da7735-graphTree').on('click', \n",
       "            \n",
       "            function(){\n",
       "                pixiedust.executeDisplay(\n",
       "                    {\"prefix\": \"e8da7735\", \"command\": \"display(g,cell_id='3258d47e3f0e43f6859057a55336dc17',nostore_pixiedust='true',handlerId='graphTree',nostore_cw='1098',nostore_vh='646',org_params='nostore_pixiedust',nostore_bokeh='false',prefix='e8da7735')\", \"entity\": \"g\", \"options\": {\"cell_id\": \"3258d47e3f0e43f6859057a55336dc17\", \"nostore_pixiedust\": \"true\", \"handlerId\": \"graphTree\", \"nostore_cw\": \"1098\", \"nostore_vh\": \"646\", \"org_params\": \"nostore_pixiedust\", \"nostore_bokeh\": \"false\", \"prefix\": \"e8da7735\"}, \"sniffers\": [\"{'nostore_bokeh':!!window.Bokeh}\"], \"avoidMetadata\": true, \"include_keys\": [\"filter\"]},\n",
       "                    {'targetDivId': 'wrapperHTMLe8da7735' }\n",
       "                );\n",
       "            }\n",
       "            )\n",
       "            </script>\n",
       "        \n",
       "                </li>\n",
       "              \n",
       "                <li id=\"menue8da7735-graphDirected\">\n",
       "                  \n",
       "                  <i class=\"fa fa-exchange\"></i>\n",
       "                  \n",
       "                  <span>Directed Graph</span>\n",
       "                  \n",
       "            <script>\n",
       "                $('#menue8da7735-graphDirected').on('click', \n",
       "            \n",
       "            function(){\n",
       "                pixiedust.executeDisplay(\n",
       "                    {\"prefix\": \"e8da7735\", \"command\": \"display(g,cell_id='3258d47e3f0e43f6859057a55336dc17',nostore_pixiedust='true',handlerId='graphDirected',nostore_cw='1098',nostore_vh='646',org_params='nostore_pixiedust',nostore_bokeh='false',prefix='e8da7735')\", \"entity\": \"g\", \"options\": {\"cell_id\": \"3258d47e3f0e43f6859057a55336dc17\", \"nostore_pixiedust\": \"true\", \"handlerId\": \"graphDirected\", \"nostore_cw\": \"1098\", \"nostore_vh\": \"646\", \"org_params\": \"nostore_pixiedust\", \"nostore_bokeh\": \"false\", \"prefix\": \"e8da7735\"}, \"sniffers\": [\"{'nostore_bokeh':!!window.Bokeh}\"], \"avoidMetadata\": true, \"include_keys\": [\"filter\"]},\n",
       "                    {'targetDivId': 'wrapperHTMLe8da7735' }\n",
       "                );\n",
       "            }\n",
       "            )\n",
       "            </script>\n",
       "        \n",
       "                </li>\n",
       "              \n",
       "              </ul>\n",
       "            </div>\n",
       "          </div>\n",
       "        \n",
       "      \n",
       "        \n",
       "      \n",
       "        <a id=\"filterbuttone8da7735\" href=\"#filtere8da7735\" class=\"btn btn-small btn-default display-type-button\" data-toggle=\"collapse\" title=\"Filter\">\n",
       "          <i class=\"fa fa-filter\" aria-hidden=\"true\"></i>\n",
       "        </a>\n",
       "      </div>\n",
       "      <div id=\"filtere8da7735\" class=\"collapse no_loading_msg\" style=\"margin-bottom:15px;padding:10px 15px;border: 1px solid #eaeaea;background-color: #fafafa;\">\n",
       "        <div pd_render_onload pd_app=\"pixiedust.display.chart.filter.FilterApp\" class=\"no_loading_msg\">\n",
       "          <script>\n",
       "            $(document).trigger('pd_event', {type:\"pd_load\", targetNode: $(\"#filtere8da7735\")});\n",
       "          </script>\n",
       "        </div>\n",
       "      </div>\n",
       "    \n",
       "    <div id=\"wrapperJSe8da7735\"></div>\n",
       "    <div id=\"wrapperHTMLe8da7735\" class=\"pixiedustWrapperHTML\" pd_init\n",
       "        pixiedust=\"{&quot;prefix&quot;: &quot;e8da7735&quot;, &quot;command&quot;: &quot;display(g,cell_id=&apos;3258d47e3f0e43f6859057a55336dc17&apos;,nostore_pixiedust=&apos;true&apos;,handlerId=&apos;graphTree&apos;,nostore_cw=&apos;1098&apos;,nostore_vh=&apos;646&apos;,org_params=&apos;nostore_pixiedust&apos;,nostore_bokeh=&apos;false&apos;)&quot;, &quot;entity&quot;: &quot;g&quot;, &quot;options&quot;: {&quot;cell_id&quot;: &quot;3258d47e3f0e43f6859057a55336dc17&quot;, &quot;nostore_pixiedust&quot;: &quot;true&quot;, &quot;handlerId&quot;: &quot;graphTree&quot;, &quot;nostore_cw&quot;: &quot;1098&quot;, &quot;nostore_vh&quot;: &quot;646&quot;, &quot;org_params&quot;: &quot;nostore_pixiedust&quot;, &quot;nostore_bokeh&quot;: &quot;false&quot;}, &quot;sniffers&quot;: [&quot;{&apos;nostore_bokeh&apos;:!!window.Bokeh}&quot;], &quot;avoidMetadata&quot;: false, &quot;include_keys&quot;: [&quot;filter&quot;]}\" style=\"min-height:100px\"></div>\n",
       "  </div>\n",
       "</div>\n",
       "                    <script>\n",
       "                    (\n",
       "            \n",
       "            function(){\n",
       "                pixiedust.executeDisplay(\n",
       "                    {\"prefix\": \"e8da7735\", \"command\": \"display(g,cell_id='3258d47e3f0e43f6859057a55336dc17',nostore_pixiedust='true',handlerId='graphTree',nostore_cw='1098',nostore_vh='646',org_params='nostore_pixiedust',nostore_bokeh='false',prefix='e8da7735')\", \"entity\": \"g\", \"options\": {\"cell_id\": \"3258d47e3f0e43f6859057a55336dc17\", \"nostore_pixiedust\": \"true\", \"handlerId\": \"graphTree\", \"nostore_cw\": \"1098\", \"nostore_vh\": \"646\", \"org_params\": \"nostore_pixiedust\", \"nostore_bokeh\": \"false\", \"prefix\": \"e8da7735\"}, \"sniffers\": [\"{'nostore_bokeh':!!window.Bokeh}\"], \"avoidMetadata\": true, \"include_keys\": [\"filter\"]},\n",
       "                    {'targetDivId': 'wrapperHTMLe8da7735' }\n",
       "                );\n",
       "            }\n",
       "            )();\n",
       "                    </script>\n",
       "                </div>"
      ],
      "text/plain": [
       "<IPython.core.display.HTML object>"
      ]
     },
     "metadata": {},
     "output_type": "display_data"
    }
   ],
   "source": [
    "display(g)"
   ]
  },
  {
   "cell_type": "code",
   "execution_count": null,
   "metadata": {},
   "outputs": [],
   "source": []
  }
 ],
 "metadata": {
  "kernelspec": {
   "display_name": "Python 3",
   "language": "python",
   "name": "python3"
  },
  "language_info": {
   "codemirror_mode": {
    "name": "ipython",
    "version": 3
   },
   "file_extension": ".py",
   "mimetype": "text/x-python",
   "name": "python",
   "nbconvert_exporter": "python",
   "pygments_lexer": "ipython3",
   "version": "3.7.6"
  }
 },
 "nbformat": 4,
 "nbformat_minor": 4
}
